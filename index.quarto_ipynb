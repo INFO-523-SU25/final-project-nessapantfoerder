{
 "cells": [
  {
   "cell_type": "markdown",
   "id": "4a1a587f",
   "metadata": {},
   "source": [
    "---\n",
    "title: \"Cats in the USA\"\n",
    "subtitle: \"INFO 523 - Final Project\"\n",
    "author: \n",
    "  - name: \"Nessa Pantfoerder\"\n",
    "    affiliations:\n",
    "      - name: \"College of Information Science, University of Arizona\"\n",
    "description: \"An Interactive Dashboard for Detecting Patterns and Outliers in Animal Tracking Data\"\n",
    "format:\n",
    "   html:\n",
    "    code-tools: true\n",
    "    code-overflow: wrap\n",
    "    embed-resources: true\n",
    "editor: visual\n",
    "execute:\n",
    "  warning: false\n",
    "  echo: false\n",
    "jupyter: python3\n",
    "---\n",
    "\n",
    "## Abstract\n",
    "\n",
    "Add project abstract here."
   ]
  }
 ],
 "metadata": {
  "kernelspec": {
   "display_name": "Python 3 (ipykernel)",
   "language": "python",
   "name": "python3",
   "path": "/Users/nessa/.pyenv/versions/3.10.8/share/jupyter/kernels/python3"
  },
  "language_info": {
   "codemirror_mode": {
    "name": "ipython",
    "version": 3
   },
   "file_extension": ".py",
   "mimetype": "text/x-python",
   "name": "python",
   "nbconvert_exporter": "python",
   "pygments_lexer": "ipython3",
   "version": "3.10.8"
  }
 },
 "nbformat": 4,
 "nbformat_minor": 5
}
